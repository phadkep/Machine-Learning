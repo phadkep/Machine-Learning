{
 "cells": [
  {
   "cell_type": "code",
   "execution_count": 1,
   "id": "b99ce2b8",
   "metadata": {},
   "outputs": [],
   "source": [
    "import pandas as pd\n",
    "import matplotlib.pyplot as plt\n",
    "%matplotlib inline"
   ]
  },
  {
   "cell_type": "code",
   "execution_count": 4,
   "id": "6aab7c3c",
   "metadata": {},
   "outputs": [],
   "source": [
    "# Boston housing datasets\n",
    "from sklearn.datasets import load_boston\n",
    "boston_df = load_boston()"
   ]
  },
  {
   "cell_type": "code",
   "execution_count": 5,
   "id": "7d911c67",
   "metadata": {},
   "outputs": [
    {
     "data": {
      "text/plain": [
       "{'data': array([[6.3200e-03, 1.8000e+01, 2.3100e+00, ..., 1.5300e+01, 3.9690e+02,\n",
       "         4.9800e+00],\n",
       "        [2.7310e-02, 0.0000e+00, 7.0700e+00, ..., 1.7800e+01, 3.9690e+02,\n",
       "         9.1400e+00],\n",
       "        [2.7290e-02, 0.0000e+00, 7.0700e+00, ..., 1.7800e+01, 3.9283e+02,\n",
       "         4.0300e+00],\n",
       "        ...,\n",
       "        [6.0760e-02, 0.0000e+00, 1.1930e+01, ..., 2.1000e+01, 3.9690e+02,\n",
       "         5.6400e+00],\n",
       "        [1.0959e-01, 0.0000e+00, 1.1930e+01, ..., 2.1000e+01, 3.9345e+02,\n",
       "         6.4800e+00],\n",
       "        [4.7410e-02, 0.0000e+00, 1.1930e+01, ..., 2.1000e+01, 3.9690e+02,\n",
       "         7.8800e+00]]),\n",
       " 'target': array([24. , 21.6, 34.7, 33.4, 36.2, 28.7, 22.9, 27.1, 16.5, 18.9, 15. ,\n",
       "        18.9, 21.7, 20.4, 18.2, 19.9, 23.1, 17.5, 20.2, 18.2, 13.6, 19.6,\n",
       "        15.2, 14.5, 15.6, 13.9, 16.6, 14.8, 18.4, 21. , 12.7, 14.5, 13.2,\n",
       "        13.1, 13.5, 18.9, 20. , 21. , 24.7, 30.8, 34.9, 26.6, 25.3, 24.7,\n",
       "        21.2, 19.3, 20. , 16.6, 14.4, 19.4, 19.7, 20.5, 25. , 23.4, 18.9,\n",
       "        35.4, 24.7, 31.6, 23.3, 19.6, 18.7, 16. , 22.2, 25. , 33. , 23.5,\n",
       "        19.4, 22. , 17.4, 20.9, 24.2, 21.7, 22.8, 23.4, 24.1, 21.4, 20. ,\n",
       "        20.8, 21.2, 20.3, 28. , 23.9, 24.8, 22.9, 23.9, 26.6, 22.5, 22.2,\n",
       "        23.6, 28.7, 22.6, 22. , 22.9, 25. , 20.6, 28.4, 21.4, 38.7, 43.8,\n",
       "        33.2, 27.5, 26.5, 18.6, 19.3, 20.1, 19.5, 19.5, 20.4, 19.8, 19.4,\n",
       "        21.7, 22.8, 18.8, 18.7, 18.5, 18.3, 21.2, 19.2, 20.4, 19.3, 22. ,\n",
       "        20.3, 20.5, 17.3, 18.8, 21.4, 15.7, 16.2, 18. , 14.3, 19.2, 19.6,\n",
       "        23. , 18.4, 15.6, 18.1, 17.4, 17.1, 13.3, 17.8, 14. , 14.4, 13.4,\n",
       "        15.6, 11.8, 13.8, 15.6, 14.6, 17.8, 15.4, 21.5, 19.6, 15.3, 19.4,\n",
       "        17. , 15.6, 13.1, 41.3, 24.3, 23.3, 27. , 50. , 50. , 50. , 22.7,\n",
       "        25. , 50. , 23.8, 23.8, 22.3, 17.4, 19.1, 23.1, 23.6, 22.6, 29.4,\n",
       "        23.2, 24.6, 29.9, 37.2, 39.8, 36.2, 37.9, 32.5, 26.4, 29.6, 50. ,\n",
       "        32. , 29.8, 34.9, 37. , 30.5, 36.4, 31.1, 29.1, 50. , 33.3, 30.3,\n",
       "        34.6, 34.9, 32.9, 24.1, 42.3, 48.5, 50. , 22.6, 24.4, 22.5, 24.4,\n",
       "        20. , 21.7, 19.3, 22.4, 28.1, 23.7, 25. , 23.3, 28.7, 21.5, 23. ,\n",
       "        26.7, 21.7, 27.5, 30.1, 44.8, 50. , 37.6, 31.6, 46.7, 31.5, 24.3,\n",
       "        31.7, 41.7, 48.3, 29. , 24. , 25.1, 31.5, 23.7, 23.3, 22. , 20.1,\n",
       "        22.2, 23.7, 17.6, 18.5, 24.3, 20.5, 24.5, 26.2, 24.4, 24.8, 29.6,\n",
       "        42.8, 21.9, 20.9, 44. , 50. , 36. , 30.1, 33.8, 43.1, 48.8, 31. ,\n",
       "        36.5, 22.8, 30.7, 50. , 43.5, 20.7, 21.1, 25.2, 24.4, 35.2, 32.4,\n",
       "        32. , 33.2, 33.1, 29.1, 35.1, 45.4, 35.4, 46. , 50. , 32.2, 22. ,\n",
       "        20.1, 23.2, 22.3, 24.8, 28.5, 37.3, 27.9, 23.9, 21.7, 28.6, 27.1,\n",
       "        20.3, 22.5, 29. , 24.8, 22. , 26.4, 33.1, 36.1, 28.4, 33.4, 28.2,\n",
       "        22.8, 20.3, 16.1, 22.1, 19.4, 21.6, 23.8, 16.2, 17.8, 19.8, 23.1,\n",
       "        21. , 23.8, 23.1, 20.4, 18.5, 25. , 24.6, 23. , 22.2, 19.3, 22.6,\n",
       "        19.8, 17.1, 19.4, 22.2, 20.7, 21.1, 19.5, 18.5, 20.6, 19. , 18.7,\n",
       "        32.7, 16.5, 23.9, 31.2, 17.5, 17.2, 23.1, 24.5, 26.6, 22.9, 24.1,\n",
       "        18.6, 30.1, 18.2, 20.6, 17.8, 21.7, 22.7, 22.6, 25. , 19.9, 20.8,\n",
       "        16.8, 21.9, 27.5, 21.9, 23.1, 50. , 50. , 50. , 50. , 50. , 13.8,\n",
       "        13.8, 15. , 13.9, 13.3, 13.1, 10.2, 10.4, 10.9, 11.3, 12.3,  8.8,\n",
       "         7.2, 10.5,  7.4, 10.2, 11.5, 15.1, 23.2,  9.7, 13.8, 12.7, 13.1,\n",
       "        12.5,  8.5,  5. ,  6.3,  5.6,  7.2, 12.1,  8.3,  8.5,  5. , 11.9,\n",
       "        27.9, 17.2, 27.5, 15. , 17.2, 17.9, 16.3,  7. ,  7.2,  7.5, 10.4,\n",
       "         8.8,  8.4, 16.7, 14.2, 20.8, 13.4, 11.7,  8.3, 10.2, 10.9, 11. ,\n",
       "         9.5, 14.5, 14.1, 16.1, 14.3, 11.7, 13.4,  9.6,  8.7,  8.4, 12.8,\n",
       "        10.5, 17.1, 18.4, 15.4, 10.8, 11.8, 14.9, 12.6, 14.1, 13. , 13.4,\n",
       "        15.2, 16.1, 17.8, 14.9, 14.1, 12.7, 13.5, 14.9, 20. , 16.4, 17.7,\n",
       "        19.5, 20.2, 21.4, 19.9, 19. , 19.1, 19.1, 20.1, 19.9, 19.6, 23.2,\n",
       "        29.8, 13.8, 13.3, 16.7, 12. , 14.6, 21.4, 23. , 23.7, 25. , 21.8,\n",
       "        20.6, 21.2, 19.1, 20.6, 15.2,  7. ,  8.1, 13.6, 20.1, 21.8, 24.5,\n",
       "        23.1, 19.7, 18.3, 21.2, 17.5, 16.8, 22.4, 20.6, 23.9, 22. , 11.9]),\n",
       " 'feature_names': array(['CRIM', 'ZN', 'INDUS', 'CHAS', 'NOX', 'RM', 'AGE', 'DIS', 'RAD',\n",
       "        'TAX', 'PTRATIO', 'B', 'LSTAT'], dtype='<U7'),\n",
       " 'DESCR': \".. _boston_dataset:\\n\\nBoston house prices dataset\\n---------------------------\\n\\n**Data Set Characteristics:**  \\n\\n    :Number of Instances: 506 \\n\\n    :Number of Attributes: 13 numeric/categorical predictive. Median Value (attribute 14) is usually the target.\\n\\n    :Attribute Information (in order):\\n        - CRIM     per capita crime rate by town\\n        - ZN       proportion of residential land zoned for lots over 25,000 sq.ft.\\n        - INDUS    proportion of non-retail business acres per town\\n        - CHAS     Charles River dummy variable (= 1 if tract bounds river; 0 otherwise)\\n        - NOX      nitric oxides concentration (parts per 10 million)\\n        - RM       average number of rooms per dwelling\\n        - AGE      proportion of owner-occupied units built prior to 1940\\n        - DIS      weighted distances to five Boston employment centres\\n        - RAD      index of accessibility to radial highways\\n        - TAX      full-value property-tax rate per $10,000\\n        - PTRATIO  pupil-teacher ratio by town\\n        - B        1000(Bk - 0.63)^2 where Bk is the proportion of black people by town\\n        - LSTAT    % lower status of the population\\n        - MEDV     Median value of owner-occupied homes in $1000's\\n\\n    :Missing Attribute Values: None\\n\\n    :Creator: Harrison, D. and Rubinfeld, D.L.\\n\\nThis is a copy of UCI ML housing dataset.\\nhttps://archive.ics.uci.edu/ml/machine-learning-databases/housing/\\n\\n\\nThis dataset was taken from the StatLib library which is maintained at Carnegie Mellon University.\\n\\nThe Boston house-price data of Harrison, D. and Rubinfeld, D.L. 'Hedonic\\nprices and the demand for clean air', J. Environ. Economics & Management,\\nvol.5, 81-102, 1978.   Used in Belsley, Kuh & Welsch, 'Regression diagnostics\\n...', Wiley, 1980.   N.B. Various transformations are used in the table on\\npages 244-261 of the latter.\\n\\nThe Boston house-price data has been used in many machine learning papers that address regression\\nproblems.   \\n     \\n.. topic:: References\\n\\n   - Belsley, Kuh & Welsch, 'Regression diagnostics: Identifying Influential Data and Sources of Collinearity', Wiley, 1980. 244-261.\\n   - Quinlan,R. (1993). Combining Instance-Based and Model-Based Learning. In Proceedings on the Tenth International Conference of Machine Learning, 236-243, University of Massachusetts, Amherst. Morgan Kaufmann.\\n\",\n",
       " 'filename': 'boston_house_prices.csv',\n",
       " 'data_module': 'sklearn.datasets.data'}"
      ]
     },
     "execution_count": 5,
     "metadata": {},
     "output_type": "execute_result"
    }
   ],
   "source": [
    "boston_df"
   ]
  },
  {
   "cell_type": "code",
   "execution_count": 7,
   "id": "34764891",
   "metadata": {},
   "outputs": [],
   "source": [
    "X = pd.DataFrame(boston_df.data,columns=boston_df.feature_names)\n",
    "y = boston_df.target"
   ]
  },
  {
   "cell_type": "code",
   "execution_count": 10,
   "id": "f9fa0d06",
   "metadata": {},
   "outputs": [],
   "source": [
    "## Before processing , we can/need to split the data\n",
    "from sklearn.model_selection import train_test_split\n",
    "X_train,X_test,y_train,y_test= train_test_split(X,y,test_size=0.33,random_state=42)"
   ]
  },
  {
   "cell_type": "code",
   "execution_count": 21,
   "id": "33399d3c",
   "metadata": {},
   "outputs": [],
   "source": [
    "## we are not passing any parameter to regressor.\n",
    "from sklearn.tree import DecisionTreeRegressor\n",
    "regressor = DecisionTreeRegressor()"
   ]
  },
  {
   "cell_type": "code",
   "execution_count": 14,
   "id": "d8183139",
   "metadata": {},
   "outputs": [
    {
     "data": {
      "text/plain": [
       "DecisionTreeRegressor()"
      ]
     },
     "execution_count": 14,
     "metadata": {},
     "output_type": "execute_result"
    }
   ],
   "source": [
    "regressor.fit(X_train,y_train)"
   ]
  },
  {
   "cell_type": "code",
   "execution_count": 15,
   "id": "d31a7fe7",
   "metadata": {},
   "outputs": [],
   "source": [
    "y_pred = regressor.predict(X_test)"
   ]
  },
  {
   "cell_type": "code",
   "execution_count": 16,
   "id": "8d7217ef",
   "metadata": {},
   "outputs": [
    {
     "data": {
      "text/plain": [
       "array([22. , 28. ,  8.1, 23.5, 15.2, 21.6, 18.8, 17.8, 21.4, 19.5, 19. ,\n",
       "       19. ,  7.2, 21.1, 16.2, 22.8, 20.5, 10.5, 42.3, 14.6, 24.1, 24.6,\n",
       "       13.5, 20.6, 16.7, 14.6, 21.7, 13.4, 19. , 22. , 19.8, 22.9, 36.5,\n",
       "       15.3, 17.3, 13.8, 31.1, 19. , 21.7, 23.7, 19.4, 36.1, 35.2, 26.4,\n",
       "       22. , 11. , 13.5, 23.7, 21.7, 32. , 19.1, 35.1, 13.5, 30.1, 42.3,\n",
       "       20.6, 17.8, 37.3, 22.9, 22.5, 27.5, 29. , 29.4, 18.2, 24.5, 16.6,\n",
       "       12.1, 22.9, 32. , 17.3, 21.7, 30.1, 10.5, 18.6, 20.6,  5.6, 19.8,\n",
       "       35.2, 10.4, 13.4, 22. , 13.1, 17.5, 10.5, 20.3, 25.1, 15.2, 23. ,\n",
       "       23. , 18. , 22.2,  7.2, 19.8, 17.5, 18.6, 18.4, 50. , 16.3, 11.8,\n",
       "       16.3, 19.3, 21.2, 14.6, 20.4, 24.7, 11.8, 20.4, 24.8, 19. , 22.9,\n",
       "       10.5, 16.3, 22.3, 22.2, 31.7, 16.7, 46. , 14.8, 16.2, 23.7, 16.1,\n",
       "       24.8,  8.3, 18.5, 24.7, 22.9, 23.3, 37.2, 18.3, 50. , 15.4, 25. ,\n",
       "       18.2, 23.2, 11.8, 22.3, 19.8, 29.6, 29.8, 14.8, 22.4, 23.7, 19.3,\n",
       "       16.6,  6.3, 18.9, 13.8, 14.9, 15.6, 44.8, 14.1, 17.8, 23. , 18.5,\n",
       "       16.2, 18.6, 14.6, 22.9, 36.2,  8.3, 21.4, 26.4, 20.4, 22.9, 16.2,\n",
       "       22. , 42.8])"
      ]
     },
     "execution_count": 16,
     "metadata": {},
     "output_type": "execute_result"
    }
   ],
   "source": [
    "y_pred"
   ]
  },
  {
   "cell_type": "code",
   "execution_count": 19,
   "id": "c972df12",
   "metadata": {},
   "outputs": [],
   "source": [
    "from sklearn.metrics import r2_score\n",
    "score = r2_score(y_pred,y_test)"
   ]
  },
  {
   "cell_type": "code",
   "execution_count": 20,
   "id": "b5da5ab9",
   "metadata": {},
   "outputs": [
    {
     "data": {
      "text/plain": [
       "0.7296406248754735"
      ]
     },
     "execution_count": 20,
     "metadata": {},
     "output_type": "execute_result"
    }
   ],
   "source": [
    "score"
   ]
  },
  {
   "cell_type": "code",
   "execution_count": 28,
   "id": "647dce8a",
   "metadata": {},
   "outputs": [],
   "source": [
    "## Hypermater Tunning\n",
    "parameter = {\n",
    "    'criterion':['squared_error','friedaman_mse','absolute_error','poisson'],\n",
    "    'splitter':['best','random'],\n",
    "    'max_depth':[1,2,3,4,5,6,7,8,9,10,11,12],\n",
    "    'max_features':['auto','sqrt','log2']\n",
    "}\n",
    "regressor = DecisionTreeRegressor()"
   ]
  },
  {
   "cell_type": "raw",
   "id": "6845a9d3",
   "metadata": {},
   "source": [
    "split train data --> 1)train data and 2)validation data\n",
    "cv = 5 , experiments are 5"
   ]
  },
  {
   "cell_type": "code",
   "execution_count": 29,
   "id": "97a47d2e",
   "metadata": {},
   "outputs": [],
   "source": [
    "from sklearn.model_selection import GridSearchCV\n",
    "regressorcv = GridSearchCV(regressor, param_grid=parameter,cv=5,scoring='neg_mean_squared_error')"
   ]
  },
  {
   "cell_type": "code",
   "execution_count": 30,
   "id": "a21e480d",
   "metadata": {},
   "outputs": [
    {
     "name": "stderr",
     "output_type": "stream",
     "text": [
      "/Users/payal/opt/anaconda3/lib/python3.9/site-packages/sklearn/model_selection/_validation.py:372: FitFailedWarning: \n",
      "360 fits failed out of a total of 1440.\n",
      "The score on these train-test partitions for these parameters will be set to nan.\n",
      "If these failures are not expected, you can try to debug them by setting error_score='raise'.\n",
      "\n",
      "Below are more details about the failures:\n",
      "--------------------------------------------------------------------------------\n",
      "360 fits failed with the following error:\n",
      "Traceback (most recent call last):\n",
      "  File \"/Users/payal/opt/anaconda3/lib/python3.9/site-packages/sklearn/model_selection/_validation.py\", line 680, in _fit_and_score\n",
      "    estimator.fit(X_train, y_train, **fit_params)\n",
      "  File \"/Users/payal/opt/anaconda3/lib/python3.9/site-packages/sklearn/tree/_classes.py\", line 1315, in fit\n",
      "    super().fit(\n",
      "  File \"/Users/payal/opt/anaconda3/lib/python3.9/site-packages/sklearn/tree/_classes.py\", line 356, in fit\n",
      "    criterion = CRITERIA_REG[self.criterion](self.n_outputs_, n_samples)\n",
      "KeyError: 'friedaman_mse'\n",
      "\n",
      "  warnings.warn(some_fits_failed_message, FitFailedWarning)\n",
      "/Users/payal/opt/anaconda3/lib/python3.9/site-packages/sklearn/model_selection/_search.py:969: UserWarning: One or more of the test scores are non-finite: [-60.48120591 -68.15098401 -66.06295778 -65.95957799 -65.43776548\n",
      " -71.52640504 -38.92811741 -47.69248962 -53.28577504 -74.56848762\n",
      " -45.1430041  -71.67186328 -35.74934334 -38.28172734 -53.64318056\n",
      " -56.74766128 -37.08866898 -63.86598196 -29.0651073  -29.02491572\n",
      " -31.54906729 -54.54196929 -44.99167714 -53.67028863 -28.85562113\n",
      " -31.02951223 -36.4413957  -41.26737956 -28.85793121 -48.44325361\n",
      " -25.88380857 -29.38865214 -32.43998904 -40.50656303 -38.70409591\n",
      " -41.60180394 -24.98947816 -25.33811969 -26.6133035  -40.7594504\n",
      " -30.46786376 -37.72921159 -25.10585947 -29.34042718 -32.61811579\n",
      " -30.95653007 -30.81084537 -34.15948804 -28.35486764 -20.86184936\n",
      " -32.27877549 -35.72599283 -31.47594257 -28.59575755 -25.34866222\n",
      " -31.08632169 -34.57934535 -40.13151199 -33.41075477 -38.40867442\n",
      " -30.23921635 -33.91680653 -41.16238678 -42.94490917 -38.87282599\n",
      " -49.2238248  -25.6376978  -27.95576065 -30.85557698 -42.34201396\n",
      " -31.407243   -48.87837204          nan          nan          nan\n",
      "          nan          nan          nan          nan          nan\n",
      "          nan          nan          nan          nan          nan\n",
      "          nan          nan          nan          nan          nan\n",
      "          nan          nan          nan          nan          nan\n",
      "          nan          nan          nan          nan          nan\n",
      "          nan          nan          nan          nan          nan\n",
      "          nan          nan          nan          nan          nan\n",
      "          nan          nan          nan          nan          nan\n",
      "          nan          nan          nan          nan          nan\n",
      "          nan          nan          nan          nan          nan\n",
      "          nan          nan          nan          nan          nan\n",
      "          nan          nan          nan          nan          nan\n",
      "          nan          nan          nan          nan          nan\n",
      "          nan          nan          nan          nan -54.09071477\n",
      " -67.23976504 -63.08412654 -77.59216264 -68.35846313 -74.111107\n",
      " -32.64318349 -51.35088828 -53.84899133 -53.3552241  -50.11354379\n",
      " -53.19971356 -27.91620391 -43.30302491 -36.99896181 -57.25418931\n",
      " -53.48578556 -55.46343613 -29.7507511  -28.42406234 -44.22158077\n",
      " -53.81533703 -32.02266857 -63.24374868 -31.45786304 -28.88004532\n",
      " -34.78183099 -38.47917131 -31.66579741 -41.2316408  -32.30651932\n",
      " -27.4764234  -32.3324178  -44.49289925 -37.27114958 -43.17025845\n",
      " -25.17198606 -30.84863619 -33.00700966 -43.22816802 -33.31047322\n",
      " -35.50785481 -30.5100709  -28.24918569 -29.7082005  -32.34948123\n",
      " -32.03959888 -39.54498957 -26.27932112 -29.60152612 -49.12107891\n",
      " -47.02232232 -26.18696828 -35.20473507 -22.49933231 -27.24583988\n",
      " -35.95794633 -47.73036523 -34.45109888 -41.5848356  -25.43377766\n",
      " -35.16882737 -36.46653786 -28.66381124 -35.97311885 -28.69354214\n",
      " -24.60728786 -25.51703819 -40.59376975 -30.96154072 -31.21690255\n",
      " -56.14777392 -88.48746879 -74.11688666 -85.5780406  -80.56536694\n",
      " -88.42463041 -77.61403286 -88.51929563 -61.16491904 -79.93403392\n",
      " -75.66178517 -87.09225768 -71.59406338 -92.14127588 -66.68770903\n",
      " -70.87221226 -63.56704717 -70.02622631 -66.37159916 -74.90440877\n",
      " -46.36112656 -74.25530337 -51.52491698 -60.15244788 -62.20772087\n",
      " -71.05007845 -52.3239765  -68.30737439 -62.50913574 -65.96967308\n",
      " -55.77074542 -67.40421618 -59.31287047 -78.95364626 -56.67833886\n",
      " -71.59301723 -60.48430214 -69.28775481 -44.15067798 -64.58724818\n",
      " -55.03417284 -61.64530582 -45.34080531 -65.07890311 -41.41586611\n",
      " -62.99136547 -46.62840469 -59.86605055 -52.53039058 -63.09308216\n",
      " -47.12403777 -55.92613234 -56.54263686 -69.34061453 -58.10694295\n",
      " -61.72224789 -44.88998312 -57.6851528  -51.50614779 -59.02690519\n",
      " -53.43996438 -59.32146336 -41.87083776 -66.89345528 -43.66436493\n",
      " -53.99955674 -44.17688021 -55.71181158 -59.66030786 -51.24275772\n",
      " -43.54372852 -63.9245314  -53.74766834]\n",
      "  warnings.warn(\n"
     ]
    },
    {
     "data": {
      "text/plain": [
       "GridSearchCV(cv=5, estimator=DecisionTreeRegressor(),\n",
       "             param_grid={'criterion': ['squared_error', 'friedaman_mse',\n",
       "                                       'absolute_error', 'poisson'],\n",
       "                         'max_depth': [1, 2, 3, 4, 5, 6, 7, 8, 9, 10, 11, 12],\n",
       "                         'max_features': ['auto', 'sqrt', 'log2'],\n",
       "                         'splitter': ['best', 'random']},\n",
       "             scoring='neg_mean_squared_error')"
      ]
     },
     "execution_count": 30,
     "metadata": {},
     "output_type": "execute_result"
    }
   ],
   "source": [
    "regressorcv.fit(X_train,y_train)"
   ]
  },
  {
   "cell_type": "code",
   "execution_count": 31,
   "id": "e9f79eb2",
   "metadata": {},
   "outputs": [
    {
     "data": {
      "text/plain": [
       "{'criterion': 'squared_error',\n",
       " 'max_depth': 9,\n",
       " 'max_features': 'auto',\n",
       " 'splitter': 'random'}"
      ]
     },
     "execution_count": 31,
     "metadata": {},
     "output_type": "execute_result"
    }
   ],
   "source": [
    "regressorcv.best_params_"
   ]
  },
  {
   "cell_type": "code",
   "execution_count": 32,
   "id": "56ece8eb",
   "metadata": {},
   "outputs": [],
   "source": [
    "y_pred=regressorcv.predict(X_test)"
   ]
  },
  {
   "cell_type": "code",
   "execution_count": 33,
   "id": "62d979fb",
   "metadata": {},
   "outputs": [
    {
     "data": {
      "text/plain": [
       "array([23.26666667, 25.87777778, 13.57083333, 22.1       , 18.3       ,\n",
       "       23.26666667, 19.96470588, 13.57083333, 18.3       , 21.22857143,\n",
       "       19.96470588, 24.4       ,  7.2       , 21.22857143, 21.16666667,\n",
       "       23.2       , 19.96470588,  7.2       , 41.9       , 13.57083333,\n",
       "       23.5       , 23.26666667, 13.57083333, 23.2       , 18.3       ,\n",
       "       13.57083333, 20.54      ,  9.61428571, 19.96470588, 21.16666667,\n",
       "       19.96470588, 23.26666667, 11.9       , 21.525     , 13.57083333,\n",
       "       15.6       , 36.53333333, 19.14      , 19.96470588, 23.26666667,\n",
       "       19.96470588, 27.24      , 41.9       , 20.54      , 23.26666667,\n",
       "       18.3       , 13.57083333, 22.2       , 18.3       , 28.4       ,\n",
       "       21.22857143, 33.1       , 13.57083333, 20.4       , 33.2       ,\n",
       "       23.2       , 18.3       , 32.        , 23.26666667, 16.        ,\n",
       "       23.26666667, 33.        , 25.87777778, 19.14      , 25.87777778,\n",
       "       19.96470588, 18.3       , 23.5       , 25.87777778, 14.1       ,\n",
       "       20.54      , 20.4       , 13.57083333, 22.2       , 23.26666667,\n",
       "        5.6       , 21.525     , 46.72      , 13.57083333, 13.57083333,\n",
       "       20.54      , 13.57083333, 17.85      , 13.57083333, 23.26666667,\n",
       "       23.26666667, 18.3       , 22.2       , 22.1       , 18.3       ,\n",
       "       23.26666667,  7.85      , 21.525     , 20.54      , 50.        ,\n",
       "       21.525     , 21.525     , 16.3       ,  9.61428571, 10.2       ,\n",
       "       21.22857143, 23.26666667, 13.57083333, 20.4       , 23.26666667,\n",
       "       11.        , 19.14      , 22.2       , 20.4       , 25.87777778,\n",
       "        9.61428571, 10.2       , 22.        , 23.26666667, 23.6       ,\n",
       "        9.61428571, 33.4       , 18.3       , 21.16666667, 28.4       ,\n",
       "       20.54      , 25.87777778, 10.2       , 23.26666667, 23.5       ,\n",
       "       23.26666667, 25.87777778, 36.5       , 13.1       , 46.72      ,\n",
       "       14.4       , 23.26666667, 18.3       , 19.96470588, 14.2       ,\n",
       "       11.        , 20.4       , 31.1       , 28.4       , 18.3       ,\n",
       "       18.3       , 28.4       , 17.85      , 19.96470588,  7.85      ,\n",
       "       23.26666667, 13.1       , 13.57083333, 13.57083333, 46.72      ,\n",
       "       14.1       , 18.3       , 25.87777778, 21.22857143, 20.54      ,\n",
       "       22.        , 20.8125    , 20.4       , 30.7       , 10.2       ,\n",
       "       21.22857143, 20.54      , 19.14      , 23.26666667, 21.16666667,\n",
       "       21.525     , 50.        ])"
      ]
     },
     "execution_count": 33,
     "metadata": {},
     "output_type": "execute_result"
    }
   ],
   "source": [
    "y_pred"
   ]
  },
  {
   "cell_type": "markdown",
   "id": "dca40503",
   "metadata": {},
   "source": [
    "## "
   ]
  }
 ],
 "metadata": {
  "kernelspec": {
   "display_name": "Python 3 (ipykernel)",
   "language": "python",
   "name": "python3"
  },
  "language_info": {
   "codemirror_mode": {
    "name": "ipython",
    "version": 3
   },
   "file_extension": ".py",
   "mimetype": "text/x-python",
   "name": "python",
   "nbconvert_exporter": "python",
   "pygments_lexer": "ipython3",
   "version": "3.9.13"
  }
 },
 "nbformat": 4,
 "nbformat_minor": 5
}
