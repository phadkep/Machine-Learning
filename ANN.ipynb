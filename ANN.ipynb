{
 "cells": [
  {
   "cell_type": "code",
   "execution_count": 1,
   "id": "bb56b534",
   "metadata": {},
   "outputs": [
    {
     "name": "stdout",
     "output_type": "stream",
     "text": [
      "Requirement already satisfied: pip in /Users/payal/opt/anaconda3/lib/python3.9/site-packages (24.0)\n",
      "Note: you may need to restart the kernel to use updated packages.\n"
     ]
    }
   ],
   "source": [
    "pip install --upgrade pip\n"
   ]
  },
  {
   "cell_type": "code",
   "execution_count": 2,
   "id": "895b8d40",
   "metadata": {},
   "outputs": [
    {
     "name": "stdout",
     "output_type": "stream",
     "text": [
      "Requirement already satisfied: tensorflow in /Users/payal/opt/anaconda3/lib/python3.9/site-packages (2.15.0)\n",
      "Requirement already satisfied: absl-py>=1.0.0 in /Users/payal/opt/anaconda3/lib/python3.9/site-packages (from tensorflow) (2.0.0)\n",
      "Requirement already satisfied: astunparse>=1.6.0 in /Users/payal/opt/anaconda3/lib/python3.9/site-packages (from tensorflow) (1.6.3)\n",
      "Requirement already satisfied: flatbuffers>=23.5.26 in /Users/payal/opt/anaconda3/lib/python3.9/site-packages (from tensorflow) (23.5.26)\n",
      "Requirement already satisfied: gast!=0.5.0,!=0.5.1,!=0.5.2,>=0.2.1 in /Users/payal/opt/anaconda3/lib/python3.9/site-packages (from tensorflow) (0.5.4)\n",
      "Requirement already satisfied: google-pasta>=0.1.1 in /Users/payal/opt/anaconda3/lib/python3.9/site-packages (from tensorflow) (0.2.0)\n",
      "Requirement already satisfied: h5py>=2.9.0 in /Users/payal/opt/anaconda3/lib/python3.9/site-packages (from tensorflow) (3.7.0)\n",
      "Requirement already satisfied: libclang>=13.0.0 in /Users/payal/opt/anaconda3/lib/python3.9/site-packages (from tensorflow) (16.0.6)\n",
      "Requirement already satisfied: ml-dtypes~=0.2.0 in /Users/payal/opt/anaconda3/lib/python3.9/site-packages (from tensorflow) (0.2.0)\n",
      "Requirement already satisfied: numpy<2.0.0,>=1.23.5 in /Users/payal/opt/anaconda3/lib/python3.9/site-packages (from tensorflow) (1.24.4)\n",
      "Requirement already satisfied: opt-einsum>=2.3.2 in /Users/payal/opt/anaconda3/lib/python3.9/site-packages (from tensorflow) (3.3.0)\n",
      "Requirement already satisfied: packaging in /Users/payal/opt/anaconda3/lib/python3.9/site-packages (from tensorflow) (21.3)\n",
      "Requirement already satisfied: protobuf!=4.21.0,!=4.21.1,!=4.21.2,!=4.21.3,!=4.21.4,!=4.21.5,<5.0.0dev,>=3.20.3 in /Users/payal/opt/anaconda3/lib/python3.9/site-packages (from tensorflow) (4.23.4)\n",
      "Requirement already satisfied: setuptools in /Users/payal/opt/anaconda3/lib/python3.9/site-packages (from tensorflow) (69.0.3)\n",
      "Requirement already satisfied: six>=1.12.0 in /Users/payal/opt/anaconda3/lib/python3.9/site-packages (from tensorflow) (1.16.0)\n",
      "Requirement already satisfied: termcolor>=1.1.0 in /Users/payal/opt/anaconda3/lib/python3.9/site-packages (from tensorflow) (2.3.0)\n",
      "Requirement already satisfied: typing-extensions>=3.6.6 in /Users/payal/opt/anaconda3/lib/python3.9/site-packages (from tensorflow) (4.3.0)\n",
      "Requirement already satisfied: wrapt<1.15,>=1.11.0 in /Users/payal/opt/anaconda3/lib/python3.9/site-packages (from tensorflow) (1.14.1)\n",
      "Requirement already satisfied: tensorflow-io-gcs-filesystem>=0.23.1 in /Users/payal/opt/anaconda3/lib/python3.9/site-packages (from tensorflow) (0.34.0)\n",
      "Requirement already satisfied: grpcio<2.0,>=1.24.3 in /Users/payal/opt/anaconda3/lib/python3.9/site-packages (from tensorflow) (1.59.3)\n",
      "Requirement already satisfied: tensorboard<2.16,>=2.15 in /Users/payal/opt/anaconda3/lib/python3.9/site-packages (from tensorflow) (2.15.1)\n",
      "Requirement already satisfied: tensorflow-estimator<2.16,>=2.15.0 in /Users/payal/opt/anaconda3/lib/python3.9/site-packages (from tensorflow) (2.15.0)\n",
      "Requirement already satisfied: keras<2.16,>=2.15.0 in /Users/payal/opt/anaconda3/lib/python3.9/site-packages (from tensorflow) (2.15.0)\n",
      "Requirement already satisfied: wheel<1.0,>=0.23.0 in /Users/payal/opt/anaconda3/lib/python3.9/site-packages (from astunparse>=1.6.0->tensorflow) (0.37.1)\n",
      "Requirement already satisfied: google-auth<3,>=1.6.3 in /Users/payal/opt/anaconda3/lib/python3.9/site-packages (from tensorboard<2.16,>=2.15->tensorflow) (2.23.4)\n",
      "Requirement already satisfied: google-auth-oauthlib<2,>=0.5 in /Users/payal/opt/anaconda3/lib/python3.9/site-packages (from tensorboard<2.16,>=2.15->tensorflow) (1.1.0)\n",
      "Requirement already satisfied: markdown>=2.6.8 in /Users/payal/opt/anaconda3/lib/python3.9/site-packages (from tensorboard<2.16,>=2.15->tensorflow) (3.3.4)\n",
      "Requirement already satisfied: requests<3,>=2.21.0 in /Users/payal/opt/anaconda3/lib/python3.9/site-packages (from tensorboard<2.16,>=2.15->tensorflow) (2.28.1)\n",
      "Requirement already satisfied: tensorboard-data-server<0.8.0,>=0.7.0 in /Users/payal/opt/anaconda3/lib/python3.9/site-packages (from tensorboard<2.16,>=2.15->tensorflow) (0.7.2)\n",
      "Requirement already satisfied: werkzeug>=1.0.1 in /Users/payal/opt/anaconda3/lib/python3.9/site-packages (from tensorboard<2.16,>=2.15->tensorflow) (2.0.3)\n",
      "Requirement already satisfied: pyparsing!=3.0.5,>=2.0.2 in /Users/payal/opt/anaconda3/lib/python3.9/site-packages (from packaging->tensorflow) (3.0.9)\n",
      "Requirement already satisfied: cachetools<6.0,>=2.0.0 in /Users/payal/opt/anaconda3/lib/python3.9/site-packages (from google-auth<3,>=1.6.3->tensorboard<2.16,>=2.15->tensorflow) (5.3.2)\n",
      "Requirement already satisfied: pyasn1-modules>=0.2.1 in /Users/payal/opt/anaconda3/lib/python3.9/site-packages (from google-auth<3,>=1.6.3->tensorboard<2.16,>=2.15->tensorflow) (0.2.8)\n",
      "Requirement already satisfied: rsa<5,>=3.1.4 in /Users/payal/opt/anaconda3/lib/python3.9/site-packages (from google-auth<3,>=1.6.3->tensorboard<2.16,>=2.15->tensorflow) (4.9)\n",
      "Requirement already satisfied: requests-oauthlib>=0.7.0 in /Users/payal/opt/anaconda3/lib/python3.9/site-packages (from google-auth-oauthlib<2,>=0.5->tensorboard<2.16,>=2.15->tensorflow) (1.3.1)\n",
      "Requirement already satisfied: charset-normalizer<3,>=2 in /Users/payal/opt/anaconda3/lib/python3.9/site-packages (from requests<3,>=2.21.0->tensorboard<2.16,>=2.15->tensorflow) (2.0.4)\n",
      "Requirement already satisfied: idna<4,>=2.5 in /Users/payal/opt/anaconda3/lib/python3.9/site-packages (from requests<3,>=2.21.0->tensorboard<2.16,>=2.15->tensorflow) (3.3)\n",
      "Requirement already satisfied: urllib3<1.27,>=1.21.1 in /Users/payal/opt/anaconda3/lib/python3.9/site-packages (from requests<3,>=2.21.0->tensorboard<2.16,>=2.15->tensorflow) (1.26.11)\n",
      "Requirement already satisfied: certifi>=2017.4.17 in /Users/payal/opt/anaconda3/lib/python3.9/site-packages (from requests<3,>=2.21.0->tensorboard<2.16,>=2.15->tensorflow) (2022.9.24)\n",
      "Requirement already satisfied: pyasn1<0.5.0,>=0.4.6 in /Users/payal/opt/anaconda3/lib/python3.9/site-packages (from pyasn1-modules>=0.2.1->google-auth<3,>=1.6.3->tensorboard<2.16,>=2.15->tensorflow) (0.4.8)\n",
      "Requirement already satisfied: oauthlib>=3.0.0 in /Users/payal/opt/anaconda3/lib/python3.9/site-packages (from requests-oauthlib>=0.7.0->google-auth-oauthlib<2,>=0.5->tensorboard<2.16,>=2.15->tensorflow) (3.2.2)\n"
     ]
    }
   ],
   "source": [
    "!pip install tensorflow"
   ]
  },
  {
   "cell_type": "code",
   "execution_count": 3,
   "id": "8f5030dd",
   "metadata": {},
   "outputs": [
    {
     "name": "stderr",
     "output_type": "stream",
     "text": [
      "2024-02-15 13:38:36.899740: I tensorflow/core/platform/cpu_feature_guard.cc:182] This TensorFlow binary is optimized to use available CPU instructions in performance-critical operations.\n",
      "To enable the following instructions: AVX2 FMA, in other operations, rebuild TensorFlow with the appropriate compiler flags.\n"
     ]
    },
    {
     "name": "stdout",
     "output_type": "stream",
     "text": [
      "2.15.0\n"
     ]
    }
   ],
   "source": [
    "import tensorflow as tf\n",
    "print(tf.__version__)"
   ]
  },
  {
   "cell_type": "code",
   "execution_count": 4,
   "id": "0ffd36c8",
   "metadata": {},
   "outputs": [],
   "source": [
    "## import some basic libraries\n",
    "import numpy as np\n",
    "import matplotlib.pyplot as plt\n",
    "import pandas as pd"
   ]
  },
  {
   "cell_type": "code",
   "execution_count": 5,
   "id": "9f97bcde",
   "metadata": {},
   "outputs": [
    {
     "data": {
      "text/html": [
       "<div>\n",
       "<style scoped>\n",
       "    .dataframe tbody tr th:only-of-type {\n",
       "        vertical-align: middle;\n",
       "    }\n",
       "\n",
       "    .dataframe tbody tr th {\n",
       "        vertical-align: top;\n",
       "    }\n",
       "\n",
       "    .dataframe thead th {\n",
       "        text-align: right;\n",
       "    }\n",
       "</style>\n",
       "<table border=\"1\" class=\"dataframe\">\n",
       "  <thead>\n",
       "    <tr style=\"text-align: right;\">\n",
       "      <th></th>\n",
       "      <th>RowNumber</th>\n",
       "      <th>CustomerId</th>\n",
       "      <th>Surname</th>\n",
       "      <th>CreditScore</th>\n",
       "      <th>Geography</th>\n",
       "      <th>Gender</th>\n",
       "      <th>Age</th>\n",
       "      <th>Tenure</th>\n",
       "      <th>Balance</th>\n",
       "      <th>NumOfProducts</th>\n",
       "      <th>HasCrCard</th>\n",
       "      <th>IsActiveMember</th>\n",
       "      <th>EstimatedSalary</th>\n",
       "      <th>Exited</th>\n",
       "    </tr>\n",
       "  </thead>\n",
       "  <tbody>\n",
       "    <tr>\n",
       "      <th>0</th>\n",
       "      <td>1</td>\n",
       "      <td>15634602</td>\n",
       "      <td>Hargrave</td>\n",
       "      <td>619</td>\n",
       "      <td>France</td>\n",
       "      <td>Female</td>\n",
       "      <td>42</td>\n",
       "      <td>2</td>\n",
       "      <td>0.00</td>\n",
       "      <td>1</td>\n",
       "      <td>1</td>\n",
       "      <td>1</td>\n",
       "      <td>101348.88</td>\n",
       "      <td>1</td>\n",
       "    </tr>\n",
       "    <tr>\n",
       "      <th>1</th>\n",
       "      <td>2</td>\n",
       "      <td>15647311</td>\n",
       "      <td>Hill</td>\n",
       "      <td>608</td>\n",
       "      <td>Spain</td>\n",
       "      <td>Female</td>\n",
       "      <td>41</td>\n",
       "      <td>1</td>\n",
       "      <td>83807.86</td>\n",
       "      <td>1</td>\n",
       "      <td>0</td>\n",
       "      <td>1</td>\n",
       "      <td>112542.58</td>\n",
       "      <td>0</td>\n",
       "    </tr>\n",
       "    <tr>\n",
       "      <th>2</th>\n",
       "      <td>3</td>\n",
       "      <td>15619304</td>\n",
       "      <td>Onio</td>\n",
       "      <td>502</td>\n",
       "      <td>France</td>\n",
       "      <td>Female</td>\n",
       "      <td>42</td>\n",
       "      <td>8</td>\n",
       "      <td>159660.80</td>\n",
       "      <td>3</td>\n",
       "      <td>1</td>\n",
       "      <td>0</td>\n",
       "      <td>113931.57</td>\n",
       "      <td>1</td>\n",
       "    </tr>\n",
       "    <tr>\n",
       "      <th>3</th>\n",
       "      <td>4</td>\n",
       "      <td>15701354</td>\n",
       "      <td>Boni</td>\n",
       "      <td>699</td>\n",
       "      <td>France</td>\n",
       "      <td>Female</td>\n",
       "      <td>39</td>\n",
       "      <td>1</td>\n",
       "      <td>0.00</td>\n",
       "      <td>2</td>\n",
       "      <td>0</td>\n",
       "      <td>0</td>\n",
       "      <td>93826.63</td>\n",
       "      <td>0</td>\n",
       "    </tr>\n",
       "    <tr>\n",
       "      <th>4</th>\n",
       "      <td>5</td>\n",
       "      <td>15737888</td>\n",
       "      <td>Mitchell</td>\n",
       "      <td>850</td>\n",
       "      <td>Spain</td>\n",
       "      <td>Female</td>\n",
       "      <td>43</td>\n",
       "      <td>2</td>\n",
       "      <td>125510.82</td>\n",
       "      <td>1</td>\n",
       "      <td>1</td>\n",
       "      <td>1</td>\n",
       "      <td>79084.10</td>\n",
       "      <td>0</td>\n",
       "    </tr>\n",
       "  </tbody>\n",
       "</table>\n",
       "</div>"
      ],
      "text/plain": [
       "   RowNumber  CustomerId   Surname  CreditScore Geography  Gender  Age  \\\n",
       "0          1    15634602  Hargrave          619    France  Female   42   \n",
       "1          2    15647311      Hill          608     Spain  Female   41   \n",
       "2          3    15619304      Onio          502    France  Female   42   \n",
       "3          4    15701354      Boni          699    France  Female   39   \n",
       "4          5    15737888  Mitchell          850     Spain  Female   43   \n",
       "\n",
       "   Tenure    Balance  NumOfProducts  HasCrCard  IsActiveMember  \\\n",
       "0       2       0.00              1          1               1   \n",
       "1       1   83807.86              1          0               1   \n",
       "2       8  159660.80              3          1               0   \n",
       "3       1       0.00              2          0               0   \n",
       "4       2  125510.82              1          1               1   \n",
       "\n",
       "   EstimatedSalary  Exited  \n",
       "0        101348.88       1  \n",
       "1        112542.58       0  \n",
       "2        113931.57       1  \n",
       "3         93826.63       0  \n",
       "4         79084.10       0  "
      ]
     },
     "execution_count": 5,
     "metadata": {},
     "output_type": "execute_result"
    }
   ],
   "source": [
    "df = pd.read_csv('~/Documents/Youtube_ML/DL/Churn_Modelling.csv', sep=',')\n",
    "df.head()"
   ]
  },
  {
   "cell_type": "raw",
   "id": "09aebf1a",
   "metadata": {},
   "source": [
    "## we need to predict that the customer will exit from company or not\n",
    "We need to check feature so that customers should not exit"
   ]
  },
  {
   "cell_type": "code",
   "execution_count": 6,
   "id": "e6733057",
   "metadata": {},
   "outputs": [],
   "source": [
    "## divide the datasets into dependemnt and independant features\n",
    "\n",
    "X = df.iloc[:,3:13]\n",
    "y = df.iloc[:,13]"
   ]
  },
  {
   "cell_type": "code",
   "execution_count": 7,
   "id": "9ee4cbfb",
   "metadata": {},
   "outputs": [
    {
     "data": {
      "text/html": [
       "<div>\n",
       "<style scoped>\n",
       "    .dataframe tbody tr th:only-of-type {\n",
       "        vertical-align: middle;\n",
       "    }\n",
       "\n",
       "    .dataframe tbody tr th {\n",
       "        vertical-align: top;\n",
       "    }\n",
       "\n",
       "    .dataframe thead th {\n",
       "        text-align: right;\n",
       "    }\n",
       "</style>\n",
       "<table border=\"1\" class=\"dataframe\">\n",
       "  <thead>\n",
       "    <tr style=\"text-align: right;\">\n",
       "      <th></th>\n",
       "      <th>CreditScore</th>\n",
       "      <th>Geography</th>\n",
       "      <th>Gender</th>\n",
       "      <th>Age</th>\n",
       "      <th>Tenure</th>\n",
       "      <th>Balance</th>\n",
       "      <th>NumOfProducts</th>\n",
       "      <th>HasCrCard</th>\n",
       "      <th>IsActiveMember</th>\n",
       "      <th>EstimatedSalary</th>\n",
       "    </tr>\n",
       "  </thead>\n",
       "  <tbody>\n",
       "    <tr>\n",
       "      <th>0</th>\n",
       "      <td>619</td>\n",
       "      <td>France</td>\n",
       "      <td>Female</td>\n",
       "      <td>42</td>\n",
       "      <td>2</td>\n",
       "      <td>0.00</td>\n",
       "      <td>1</td>\n",
       "      <td>1</td>\n",
       "      <td>1</td>\n",
       "      <td>101348.88</td>\n",
       "    </tr>\n",
       "    <tr>\n",
       "      <th>1</th>\n",
       "      <td>608</td>\n",
       "      <td>Spain</td>\n",
       "      <td>Female</td>\n",
       "      <td>41</td>\n",
       "      <td>1</td>\n",
       "      <td>83807.86</td>\n",
       "      <td>1</td>\n",
       "      <td>0</td>\n",
       "      <td>1</td>\n",
       "      <td>112542.58</td>\n",
       "    </tr>\n",
       "    <tr>\n",
       "      <th>2</th>\n",
       "      <td>502</td>\n",
       "      <td>France</td>\n",
       "      <td>Female</td>\n",
       "      <td>42</td>\n",
       "      <td>8</td>\n",
       "      <td>159660.80</td>\n",
       "      <td>3</td>\n",
       "      <td>1</td>\n",
       "      <td>0</td>\n",
       "      <td>113931.57</td>\n",
       "    </tr>\n",
       "    <tr>\n",
       "      <th>3</th>\n",
       "      <td>699</td>\n",
       "      <td>France</td>\n",
       "      <td>Female</td>\n",
       "      <td>39</td>\n",
       "      <td>1</td>\n",
       "      <td>0.00</td>\n",
       "      <td>2</td>\n",
       "      <td>0</td>\n",
       "      <td>0</td>\n",
       "      <td>93826.63</td>\n",
       "    </tr>\n",
       "    <tr>\n",
       "      <th>4</th>\n",
       "      <td>850</td>\n",
       "      <td>Spain</td>\n",
       "      <td>Female</td>\n",
       "      <td>43</td>\n",
       "      <td>2</td>\n",
       "      <td>125510.82</td>\n",
       "      <td>1</td>\n",
       "      <td>1</td>\n",
       "      <td>1</td>\n",
       "      <td>79084.10</td>\n",
       "    </tr>\n",
       "  </tbody>\n",
       "</table>\n",
       "</div>"
      ],
      "text/plain": [
       "   CreditScore Geography  Gender  Age  Tenure    Balance  NumOfProducts  \\\n",
       "0          619    France  Female   42       2       0.00              1   \n",
       "1          608     Spain  Female   41       1   83807.86              1   \n",
       "2          502    France  Female   42       8  159660.80              3   \n",
       "3          699    France  Female   39       1       0.00              2   \n",
       "4          850     Spain  Female   43       2  125510.82              1   \n",
       "\n",
       "   HasCrCard  IsActiveMember  EstimatedSalary  \n",
       "0          1               1        101348.88  \n",
       "1          0               1        112542.58  \n",
       "2          1               0        113931.57  \n",
       "3          0               0         93826.63  \n",
       "4          1               1         79084.10  "
      ]
     },
     "execution_count": 7,
     "metadata": {},
     "output_type": "execute_result"
    }
   ],
   "source": [
    "X.head()"
   ]
  },
  {
   "cell_type": "code",
   "execution_count": 8,
   "id": "592a238d",
   "metadata": {},
   "outputs": [
    {
     "data": {
      "text/plain": [
       "0       1\n",
       "1       0\n",
       "2       1\n",
       "3       0\n",
       "4       0\n",
       "       ..\n",
       "9995    0\n",
       "9996    0\n",
       "9997    1\n",
       "9998    1\n",
       "9999    0\n",
       "Name: Exited, Length: 10000, dtype: int64"
      ]
     },
     "execution_count": 8,
     "metadata": {},
     "output_type": "execute_result"
    }
   ],
   "source": [
    "y"
   ]
  },
  {
   "cell_type": "code",
   "execution_count": 9,
   "id": "8c19b46e",
   "metadata": {},
   "outputs": [],
   "source": [
    "## dataset is not that clean\n",
    "# Categorical features - Gender, Geographical, age\n",
    "# we need to fix, we can do one hot encoding or other"
   ]
  },
  {
   "cell_type": "code",
   "execution_count": 10,
   "id": "a2891f01",
   "metadata": {},
   "outputs": [
    {
     "data": {
      "text/html": [
       "<div>\n",
       "<style scoped>\n",
       "    .dataframe tbody tr th:only-of-type {\n",
       "        vertical-align: middle;\n",
       "    }\n",
       "\n",
       "    .dataframe tbody tr th {\n",
       "        vertical-align: top;\n",
       "    }\n",
       "\n",
       "    .dataframe thead th {\n",
       "        text-align: right;\n",
       "    }\n",
       "</style>\n",
       "<table border=\"1\" class=\"dataframe\">\n",
       "  <thead>\n",
       "    <tr style=\"text-align: right;\">\n",
       "      <th></th>\n",
       "      <th>France</th>\n",
       "      <th>Germany</th>\n",
       "      <th>Spain</th>\n",
       "    </tr>\n",
       "  </thead>\n",
       "  <tbody>\n",
       "    <tr>\n",
       "      <th>0</th>\n",
       "      <td>1</td>\n",
       "      <td>0</td>\n",
       "      <td>0</td>\n",
       "    </tr>\n",
       "    <tr>\n",
       "      <th>1</th>\n",
       "      <td>0</td>\n",
       "      <td>0</td>\n",
       "      <td>1</td>\n",
       "    </tr>\n",
       "    <tr>\n",
       "      <th>2</th>\n",
       "      <td>1</td>\n",
       "      <td>0</td>\n",
       "      <td>0</td>\n",
       "    </tr>\n",
       "    <tr>\n",
       "      <th>3</th>\n",
       "      <td>1</td>\n",
       "      <td>0</td>\n",
       "      <td>0</td>\n",
       "    </tr>\n",
       "    <tr>\n",
       "      <th>4</th>\n",
       "      <td>0</td>\n",
       "      <td>0</td>\n",
       "      <td>1</td>\n",
       "    </tr>\n",
       "    <tr>\n",
       "      <th>...</th>\n",
       "      <td>...</td>\n",
       "      <td>...</td>\n",
       "      <td>...</td>\n",
       "    </tr>\n",
       "    <tr>\n",
       "      <th>9995</th>\n",
       "      <td>1</td>\n",
       "      <td>0</td>\n",
       "      <td>0</td>\n",
       "    </tr>\n",
       "    <tr>\n",
       "      <th>9996</th>\n",
       "      <td>1</td>\n",
       "      <td>0</td>\n",
       "      <td>0</td>\n",
       "    </tr>\n",
       "    <tr>\n",
       "      <th>9997</th>\n",
       "      <td>1</td>\n",
       "      <td>0</td>\n",
       "      <td>0</td>\n",
       "    </tr>\n",
       "    <tr>\n",
       "      <th>9998</th>\n",
       "      <td>0</td>\n",
       "      <td>1</td>\n",
       "      <td>0</td>\n",
       "    </tr>\n",
       "    <tr>\n",
       "      <th>9999</th>\n",
       "      <td>1</td>\n",
       "      <td>0</td>\n",
       "      <td>0</td>\n",
       "    </tr>\n",
       "  </tbody>\n",
       "</table>\n",
       "<p>10000 rows × 3 columns</p>\n",
       "</div>"
      ],
      "text/plain": [
       "      France  Germany  Spain\n",
       "0          1        0      0\n",
       "1          0        0      1\n",
       "2          1        0      0\n",
       "3          1        0      0\n",
       "4          0        0      1\n",
       "...      ...      ...    ...\n",
       "9995       1        0      0\n",
       "9996       1        0      0\n",
       "9997       1        0      0\n",
       "9998       0        1      0\n",
       "9999       1        0      0\n",
       "\n",
       "[10000 rows x 3 columns]"
      ]
     },
     "execution_count": 10,
     "metadata": {},
     "output_type": "execute_result"
    }
   ],
   "source": [
    "## Feature Engineering\n",
    "pd.get_dummies(X['Geography'])\n",
    "# we can see below encoding is done , we can see francxe is 1"
   ]
  },
  {
   "cell_type": "code",
   "execution_count": 11,
   "id": "069be083",
   "metadata": {},
   "outputs": [],
   "source": [
    "geography = pd.get_dummies(X['Geography'], drop_first=True)\n",
    "gender  = pd.get_dummies(X['Gender'],drop_first=True)"
   ]
  },
  {
   "cell_type": "code",
   "execution_count": 12,
   "id": "7c48895c",
   "metadata": {},
   "outputs": [],
   "source": [
    "## concatenate the variables with dataframe , axis =1 is for coloumn\n",
    "X=X.drop(['Geography','Gender'],axis=1)"
   ]
  },
  {
   "cell_type": "code",
   "execution_count": 13,
   "id": "499debc3",
   "metadata": {},
   "outputs": [
    {
     "data": {
      "text/html": [
       "<div>\n",
       "<style scoped>\n",
       "    .dataframe tbody tr th:only-of-type {\n",
       "        vertical-align: middle;\n",
       "    }\n",
       "\n",
       "    .dataframe tbody tr th {\n",
       "        vertical-align: top;\n",
       "    }\n",
       "\n",
       "    .dataframe thead th {\n",
       "        text-align: right;\n",
       "    }\n",
       "</style>\n",
       "<table border=\"1\" class=\"dataframe\">\n",
       "  <thead>\n",
       "    <tr style=\"text-align: right;\">\n",
       "      <th></th>\n",
       "      <th>CreditScore</th>\n",
       "      <th>Age</th>\n",
       "      <th>Tenure</th>\n",
       "      <th>Balance</th>\n",
       "      <th>NumOfProducts</th>\n",
       "      <th>HasCrCard</th>\n",
       "      <th>IsActiveMember</th>\n",
       "      <th>EstimatedSalary</th>\n",
       "    </tr>\n",
       "  </thead>\n",
       "  <tbody>\n",
       "    <tr>\n",
       "      <th>0</th>\n",
       "      <td>619</td>\n",
       "      <td>42</td>\n",
       "      <td>2</td>\n",
       "      <td>0.00</td>\n",
       "      <td>1</td>\n",
       "      <td>1</td>\n",
       "      <td>1</td>\n",
       "      <td>101348.88</td>\n",
       "    </tr>\n",
       "    <tr>\n",
       "      <th>1</th>\n",
       "      <td>608</td>\n",
       "      <td>41</td>\n",
       "      <td>1</td>\n",
       "      <td>83807.86</td>\n",
       "      <td>1</td>\n",
       "      <td>0</td>\n",
       "      <td>1</td>\n",
       "      <td>112542.58</td>\n",
       "    </tr>\n",
       "    <tr>\n",
       "      <th>2</th>\n",
       "      <td>502</td>\n",
       "      <td>42</td>\n",
       "      <td>8</td>\n",
       "      <td>159660.80</td>\n",
       "      <td>3</td>\n",
       "      <td>1</td>\n",
       "      <td>0</td>\n",
       "      <td>113931.57</td>\n",
       "    </tr>\n",
       "    <tr>\n",
       "      <th>3</th>\n",
       "      <td>699</td>\n",
       "      <td>39</td>\n",
       "      <td>1</td>\n",
       "      <td>0.00</td>\n",
       "      <td>2</td>\n",
       "      <td>0</td>\n",
       "      <td>0</td>\n",
       "      <td>93826.63</td>\n",
       "    </tr>\n",
       "    <tr>\n",
       "      <th>4</th>\n",
       "      <td>850</td>\n",
       "      <td>43</td>\n",
       "      <td>2</td>\n",
       "      <td>125510.82</td>\n",
       "      <td>1</td>\n",
       "      <td>1</td>\n",
       "      <td>1</td>\n",
       "      <td>79084.10</td>\n",
       "    </tr>\n",
       "  </tbody>\n",
       "</table>\n",
       "</div>"
      ],
      "text/plain": [
       "   CreditScore  Age  Tenure    Balance  NumOfProducts  HasCrCard  \\\n",
       "0          619   42       2       0.00              1          1   \n",
       "1          608   41       1   83807.86              1          0   \n",
       "2          502   42       8  159660.80              3          1   \n",
       "3          699   39       1       0.00              2          0   \n",
       "4          850   43       2  125510.82              1          1   \n",
       "\n",
       "   IsActiveMember  EstimatedSalary  \n",
       "0               1        101348.88  \n",
       "1               1        112542.58  \n",
       "2               0        113931.57  \n",
       "3               0         93826.63  \n",
       "4               1         79084.10  "
      ]
     },
     "execution_count": 13,
     "metadata": {},
     "output_type": "execute_result"
    }
   ],
   "source": [
    "X.head()"
   ]
  },
  {
   "cell_type": "code",
   "execution_count": 14,
   "id": "9ae54af4",
   "metadata": {},
   "outputs": [],
   "source": [
    "X = pd.concat([X,geography,gender],axis=1)"
   ]
  },
  {
   "cell_type": "code",
   "execution_count": 15,
   "id": "274844f2",
   "metadata": {},
   "outputs": [],
   "source": [
    "## splitting the dataset into training set and test set\n",
    "from sklearn.model_selection import train_test_split"
   ]
  },
  {
   "cell_type": "code",
   "execution_count": 16,
   "id": "492002f6",
   "metadata": {},
   "outputs": [],
   "source": [
    "X_train,X_test,y_train,y_test = train_test_split(X,y,test_size=0.2,random_state=0)"
   ]
  },
  {
   "cell_type": "raw",
   "id": "c16d2deb",
   "metadata": {},
   "source": [
    "## ANN - Artificial neural network\n",
    "## Standard scalar- why? min max is for CNN, we need to restrict\n",
    " Standard scalar- is for Z score. data is normizated , basically rotates around mean value."
   ]
  },
  {
   "cell_type": "code",
   "execution_count": 17,
   "id": "2c05431a",
   "metadata": {},
   "outputs": [],
   "source": [
    "## Feature Scaling\n",
    "from sklearn.preprocessing import StandardScaler\n",
    "sc = StandardScaler()\n",
    "X_train = sc.fit_transform(X_train)\n",
    "X_test = sc.transform(X_test)"
   ]
  },
  {
   "cell_type": "code",
   "execution_count": 18,
   "id": "fd17d030",
   "metadata": {},
   "outputs": [
    {
     "data": {
      "text/plain": [
       "array([[ 0.16958176, -0.46460796,  0.00666099, ..., -0.5698444 ,\n",
       "         1.74309049, -1.09168714],\n",
       "       [-2.30455945,  0.30102557, -1.37744033, ...,  1.75486502,\n",
       "        -0.57369368,  0.91601335],\n",
       "       [-1.19119591, -0.94312892, -1.031415  , ..., -0.5698444 ,\n",
       "        -0.57369368, -1.09168714],\n",
       "       ...,\n",
       "       [ 0.9015152 , -0.36890377,  0.00666099, ..., -0.5698444 ,\n",
       "        -0.57369368,  0.91601335],\n",
       "       [-0.62420521, -0.08179119,  1.39076231, ..., -0.5698444 ,\n",
       "         1.74309049, -1.09168714],\n",
       "       [-0.28401079,  0.87525072, -1.37744033, ...,  1.75486502,\n",
       "        -0.57369368, -1.09168714]])"
      ]
     },
     "execution_count": 18,
     "metadata": {},
     "output_type": "execute_result"
    }
   ],
   "source": [
    "X_train"
   ]
  },
  {
   "cell_type": "code",
   "execution_count": 19,
   "id": "a7911bd9",
   "metadata": {},
   "outputs": [
    {
     "data": {
      "text/plain": [
       "array([[-0.55204276, -0.36890377,  1.04473698, ...,  1.75486502,\n",
       "        -0.57369368, -1.09168714],\n",
       "       [-1.31490297,  0.10961719, -1.031415  , ..., -0.5698444 ,\n",
       "        -0.57369368, -1.09168714],\n",
       "       [ 0.57162971,  0.30102557,  1.04473698, ..., -0.5698444 ,\n",
       "         1.74309049, -1.09168714],\n",
       "       ...,\n",
       "       [-0.74791227, -0.27319958, -1.37744033, ..., -0.5698444 ,\n",
       "         1.74309049,  0.91601335],\n",
       "       [-0.00566991, -0.46460796, -0.33936434, ...,  1.75486502,\n",
       "        -0.57369368,  0.91601335],\n",
       "       [-0.79945688, -0.84742473,  1.04473698, ...,  1.75486502,\n",
       "        -0.57369368,  0.91601335]])"
      ]
     },
     "execution_count": 19,
     "metadata": {},
     "output_type": "execute_result"
    }
   ],
   "source": [
    "X_test"
   ]
  },
  {
   "cell_type": "code",
   "execution_count": 20,
   "id": "f88fae95",
   "metadata": {},
   "outputs": [
    {
     "data": {
      "text/plain": [
       "(8000, 11)"
      ]
     },
     "execution_count": 20,
     "metadata": {},
     "output_type": "execute_result"
    }
   ],
   "source": [
    "X_train.shape"
   ]
  },
  {
   "cell_type": "raw",
   "id": "8ea0e262",
   "metadata": {},
   "source": [
    "## PART 2 - lets create the ANN\n"
   ]
  },
  {
   "cell_type": "code",
   "execution_count": 21,
   "id": "fbca51af",
   "metadata": {},
   "outputs": [],
   "source": [
    "from tensorflow.keras.models import Sequential # \n",
    "from tensorflow.keras.layers import Dense\n",
    "from tensorflow.keras.layers import LeakyReLU,PReLU,ELU,ReLU\n",
    "from tensorflow.keras.layers import Dropout"
   ]
  },
  {
   "cell_type": "code",
   "execution_count": 22,
   "id": "8281be49",
   "metadata": {},
   "outputs": [],
   "source": [
    "## lets initialize the ANN\n",
    "classifier = Sequential()"
   ]
  },
  {
   "cell_type": "code",
   "execution_count": 23,
   "id": "a3995dcd",
   "metadata": {},
   "outputs": [],
   "source": [
    "## adding the input layer - in X layer we have 11 node\n",
    "classifier.add(Dense(units=11,activation='relu')) # relu will get applied to next layer"
   ]
  },
  {
   "cell_type": "code",
   "execution_count": 24,
   "id": "d4255e70",
   "metadata": {},
   "outputs": [],
   "source": [
    "## adding the first hidden layer\n",
    "classifier.add(Dense(units=7,activation='relu'))\n",
    "# we can add drop layer\n",
    "#classifier.add(Dropout(0.2))"
   ]
  },
  {
   "cell_type": "code",
   "execution_count": 25,
   "id": "db51f5f1",
   "metadata": {},
   "outputs": [],
   "source": [
    "## adding the second hidden layer\n",
    "classifier.add(Dense(units=6,activation='relu'))"
   ]
  },
  {
   "cell_type": "code",
   "execution_count": 26,
   "id": "7d855914",
   "metadata": {},
   "outputs": [],
   "source": [
    "## adding the output layer\n",
    "classifier.add(Dense(1,activation='sigmoid'))"
   ]
  },
  {
   "cell_type": "code",
   "execution_count": 27,
   "id": "f7fcdc62",
   "metadata": {},
   "outputs": [],
   "source": [
    "## train all neuron network\n",
    "classifier.compile(optimizer='adam',loss='binary_crossentropy',metrics=['accuracy'])"
   ]
  },
  {
   "cell_type": "code",
   "execution_count": 28,
   "id": "2449da60",
   "metadata": {},
   "outputs": [],
   "source": [
    "## adam uses learning rate of 0.1\n",
    "import tensorflow\n",
    "opt = tensorflow.keras.optimizers.Adam(learning_rate=0.01)"
   ]
  },
  {
   "cell_type": "code",
   "execution_count": 29,
   "id": "782dfea1",
   "metadata": {},
   "outputs": [],
   "source": [
    "## train neural network -  we have given 1000 epoch\n",
    "## validation split is 0.33\n",
    "##model_history = classifier.fit(X_train,y_train,validation_split=0.33,batch_size=10,epochs=1000)"
   ]
  },
  {
   "cell_type": "code",
   "execution_count": 30,
   "id": "75713b6e",
   "metadata": {},
   "outputs": [],
   "source": [
    "##early stopping - when accuracy is not increasing then it will automatically stop\n",
    "import tensorflow as tf\n",
    "early_stopping = tf.keras.callbacks.EarlyStopping(\n",
    "    monitor=\"val_loss\",\n",
    "    min_delta=0.0001,\n",
    "    patience=20,\n",
    "    verbose=1,\n",
    "    mode=\"auto\",\n",
    "    baseline=None,\n",
    "    restore_best_weights=False,\n",
    ")"
   ]
  },
  {
   "cell_type": "code",
   "execution_count": 31,
   "id": "3a10b4c9",
   "metadata": {},
   "outputs": [
    {
     "name": "stdout",
     "output_type": "stream",
     "text": [
      "Epoch 1/1000\n",
      "536/536 [==============================] - 3s 4ms/step - loss: 0.5777 - accuracy: 0.7457 - val_loss: 0.4625 - val_accuracy: 0.7959\n",
      "Epoch 2/1000\n",
      "536/536 [==============================] - 2s 4ms/step - loss: 0.4380 - accuracy: 0.8056 - val_loss: 0.4392 - val_accuracy: 0.8039\n",
      "Epoch 3/1000\n",
      "536/536 [==============================] - 2s 3ms/step - loss: 0.4194 - accuracy: 0.8201 - val_loss: 0.4319 - val_accuracy: 0.8095\n",
      "Epoch 4/1000\n",
      "536/536 [==============================] - 2s 4ms/step - loss: 0.4104 - accuracy: 0.8289 - val_loss: 0.4266 - val_accuracy: 0.8145\n",
      "Epoch 5/1000\n",
      "536/536 [==============================] - 2s 4ms/step - loss: 0.4044 - accuracy: 0.8339 - val_loss: 0.4231 - val_accuracy: 0.8164\n",
      "Epoch 6/1000\n",
      "536/536 [==============================] - 2s 3ms/step - loss: 0.4009 - accuracy: 0.8364 - val_loss: 0.4197 - val_accuracy: 0.8198\n",
      "Epoch 7/1000\n",
      "536/536 [==============================] - 1s 2ms/step - loss: 0.3972 - accuracy: 0.8380 - val_loss: 0.4155 - val_accuracy: 0.8205\n",
      "Epoch 8/1000\n",
      "536/536 [==============================] - 1s 3ms/step - loss: 0.3939 - accuracy: 0.8397 - val_loss: 0.4144 - val_accuracy: 0.8220\n",
      "Epoch 9/1000\n",
      "536/536 [==============================] - 1s 3ms/step - loss: 0.3916 - accuracy: 0.8393 - val_loss: 0.4099 - val_accuracy: 0.8247\n",
      "Epoch 10/1000\n",
      "536/536 [==============================] - 1s 3ms/step - loss: 0.3868 - accuracy: 0.8401 - val_loss: 0.4038 - val_accuracy: 0.8292\n",
      "Epoch 11/1000\n",
      "536/536 [==============================] - 2s 4ms/step - loss: 0.3798 - accuracy: 0.8433 - val_loss: 0.3982 - val_accuracy: 0.8311\n",
      "Epoch 12/1000\n",
      "536/536 [==============================] - 3s 5ms/step - loss: 0.3719 - accuracy: 0.8492 - val_loss: 0.3951 - val_accuracy: 0.8292\n",
      "Epoch 13/1000\n",
      "536/536 [==============================] - 1s 3ms/step - loss: 0.3603 - accuracy: 0.8524 - val_loss: 0.3800 - val_accuracy: 0.8413\n",
      "Epoch 14/1000\n",
      "536/536 [==============================] - 1s 2ms/step - loss: 0.3479 - accuracy: 0.8571 - val_loss: 0.3745 - val_accuracy: 0.8425\n",
      "Epoch 15/1000\n",
      "536/536 [==============================] - 1s 2ms/step - loss: 0.3399 - accuracy: 0.8608 - val_loss: 0.3676 - val_accuracy: 0.8459\n",
      "Epoch 16/1000\n",
      "536/536 [==============================] - 1s 2ms/step - loss: 0.3351 - accuracy: 0.8610 - val_loss: 0.3668 - val_accuracy: 0.8444\n",
      "Epoch 17/1000\n",
      "536/536 [==============================] - 1s 2ms/step - loss: 0.3345 - accuracy: 0.8602 - val_loss: 0.3650 - val_accuracy: 0.8459\n",
      "Epoch 18/1000\n",
      "536/536 [==============================] - 2s 3ms/step - loss: 0.3323 - accuracy: 0.8617 - val_loss: 0.3640 - val_accuracy: 0.8463\n",
      "Epoch 19/1000\n",
      "536/536 [==============================] - 1s 3ms/step - loss: 0.3307 - accuracy: 0.8621 - val_loss: 0.3633 - val_accuracy: 0.8474\n",
      "Epoch 20/1000\n",
      "536/536 [==============================] - 1s 2ms/step - loss: 0.3299 - accuracy: 0.8662 - val_loss: 0.3695 - val_accuracy: 0.8440\n",
      "Epoch 21/1000\n",
      "536/536 [==============================] - 1s 2ms/step - loss: 0.3286 - accuracy: 0.8653 - val_loss: 0.3647 - val_accuracy: 0.8485\n",
      "Epoch 22/1000\n",
      "536/536 [==============================] - 1s 2ms/step - loss: 0.3277 - accuracy: 0.8623 - val_loss: 0.3619 - val_accuracy: 0.8489\n",
      "Epoch 23/1000\n",
      "536/536 [==============================] - 1s 2ms/step - loss: 0.3281 - accuracy: 0.8625 - val_loss: 0.3617 - val_accuracy: 0.8493\n",
      "Epoch 24/1000\n",
      "536/536 [==============================] - 1s 2ms/step - loss: 0.3269 - accuracy: 0.8630 - val_loss: 0.3607 - val_accuracy: 0.8489\n",
      "Epoch 25/1000\n",
      "536/536 [==============================] - 1s 2ms/step - loss: 0.3267 - accuracy: 0.8636 - val_loss: 0.3611 - val_accuracy: 0.8497\n",
      "Epoch 26/1000\n",
      "536/536 [==============================] - 1s 2ms/step - loss: 0.3257 - accuracy: 0.8658 - val_loss: 0.3603 - val_accuracy: 0.8508\n",
      "Epoch 27/1000\n",
      "536/536 [==============================] - 1s 2ms/step - loss: 0.3251 - accuracy: 0.8649 - val_loss: 0.3599 - val_accuracy: 0.8501\n",
      "Epoch 28/1000\n",
      "536/536 [==============================] - 1s 2ms/step - loss: 0.3255 - accuracy: 0.8640 - val_loss: 0.3595 - val_accuracy: 0.8497\n",
      "Epoch 29/1000\n",
      "536/536 [==============================] - 1s 2ms/step - loss: 0.3248 - accuracy: 0.8662 - val_loss: 0.3600 - val_accuracy: 0.8516\n",
      "Epoch 30/1000\n",
      "536/536 [==============================] - 1s 2ms/step - loss: 0.3250 - accuracy: 0.8643 - val_loss: 0.3588 - val_accuracy: 0.8485\n",
      "Epoch 31/1000\n",
      "536/536 [==============================] - 1s 2ms/step - loss: 0.3232 - accuracy: 0.8643 - val_loss: 0.3609 - val_accuracy: 0.8508\n",
      "Epoch 32/1000\n",
      "536/536 [==============================] - 1s 2ms/step - loss: 0.3235 - accuracy: 0.8645 - val_loss: 0.3624 - val_accuracy: 0.8519\n",
      "Epoch 33/1000\n",
      "536/536 [==============================] - 1s 2ms/step - loss: 0.3228 - accuracy: 0.8655 - val_loss: 0.3590 - val_accuracy: 0.8493\n",
      "Epoch 34/1000\n",
      "536/536 [==============================] - 1s 2ms/step - loss: 0.3224 - accuracy: 0.8658 - val_loss: 0.3586 - val_accuracy: 0.8508\n",
      "Epoch 35/1000\n",
      "536/536 [==============================] - 1s 2ms/step - loss: 0.3227 - accuracy: 0.8668 - val_loss: 0.3593 - val_accuracy: 0.8497\n",
      "Epoch 36/1000\n",
      "536/536 [==============================] - 1s 2ms/step - loss: 0.3228 - accuracy: 0.8662 - val_loss: 0.3570 - val_accuracy: 0.8527\n",
      "Epoch 37/1000\n",
      "536/536 [==============================] - 1s 2ms/step - loss: 0.3207 - accuracy: 0.8649 - val_loss: 0.3582 - val_accuracy: 0.8501\n",
      "Epoch 38/1000\n",
      "536/536 [==============================] - 1s 2ms/step - loss: 0.3211 - accuracy: 0.8656 - val_loss: 0.3587 - val_accuracy: 0.8516\n",
      "Epoch 39/1000\n",
      "536/536 [==============================] - 1s 2ms/step - loss: 0.3200 - accuracy: 0.8683 - val_loss: 0.3574 - val_accuracy: 0.8523\n",
      "Epoch 40/1000\n",
      "536/536 [==============================] - 1s 2ms/step - loss: 0.3206 - accuracy: 0.8683 - val_loss: 0.3576 - val_accuracy: 0.8516\n",
      "Epoch 41/1000\n",
      "536/536 [==============================] - 1s 2ms/step - loss: 0.3202 - accuracy: 0.8658 - val_loss: 0.3559 - val_accuracy: 0.8531\n",
      "Epoch 42/1000\n",
      "536/536 [==============================] - 1s 2ms/step - loss: 0.3197 - accuracy: 0.8656 - val_loss: 0.3578 - val_accuracy: 0.8519\n",
      "Epoch 43/1000\n",
      "536/536 [==============================] - 1s 2ms/step - loss: 0.3184 - accuracy: 0.8686 - val_loss: 0.3612 - val_accuracy: 0.8508\n",
      "Epoch 44/1000\n",
      "536/536 [==============================] - 1s 2ms/step - loss: 0.3198 - accuracy: 0.8656 - val_loss: 0.3571 - val_accuracy: 0.8538\n",
      "Epoch 45/1000\n",
      "536/536 [==============================] - 1s 3ms/step - loss: 0.3188 - accuracy: 0.8671 - val_loss: 0.3565 - val_accuracy: 0.8550\n",
      "Epoch 46/1000\n",
      "536/536 [==============================] - 1s 3ms/step - loss: 0.3189 - accuracy: 0.8656 - val_loss: 0.3576 - val_accuracy: 0.8531\n",
      "Epoch 47/1000\n",
      "536/536 [==============================] - 1s 2ms/step - loss: 0.3180 - accuracy: 0.8684 - val_loss: 0.3598 - val_accuracy: 0.8531\n",
      "Epoch 48/1000\n",
      "536/536 [==============================] - 1s 2ms/step - loss: 0.3182 - accuracy: 0.8660 - val_loss: 0.3596 - val_accuracy: 0.8519\n",
      "Epoch 49/1000\n",
      "536/536 [==============================] - 1s 2ms/step - loss: 0.3174 - accuracy: 0.8679 - val_loss: 0.3632 - val_accuracy: 0.8485\n",
      "Epoch 50/1000\n",
      "536/536 [==============================] - 1s 2ms/step - loss: 0.3172 - accuracy: 0.8673 - val_loss: 0.3600 - val_accuracy: 0.8531\n",
      "Epoch 51/1000\n",
      "536/536 [==============================] - 1s 3ms/step - loss: 0.3167 - accuracy: 0.8688 - val_loss: 0.3574 - val_accuracy: 0.8512\n",
      "Epoch 52/1000\n",
      "536/536 [==============================] - 1s 2ms/step - loss: 0.3167 - accuracy: 0.8681 - val_loss: 0.3592 - val_accuracy: 0.8519\n",
      "Epoch 53/1000\n",
      "536/536 [==============================] - 1s 3ms/step - loss: 0.3171 - accuracy: 0.8675 - val_loss: 0.3565 - val_accuracy: 0.8527\n",
      "Epoch 54/1000\n",
      "536/536 [==============================] - 1s 3ms/step - loss: 0.3162 - accuracy: 0.8688 - val_loss: 0.3613 - val_accuracy: 0.8508\n",
      "Epoch 55/1000\n",
      "536/536 [==============================] - 1s 2ms/step - loss: 0.3165 - accuracy: 0.8681 - val_loss: 0.3596 - val_accuracy: 0.8527\n",
      "Epoch 56/1000\n",
      "536/536 [==============================] - 1s 2ms/step - loss: 0.3159 - accuracy: 0.8699 - val_loss: 0.3584 - val_accuracy: 0.8523\n",
      "Epoch 57/1000\n"
     ]
    },
    {
     "name": "stdout",
     "output_type": "stream",
     "text": [
      "536/536 [==============================] - 1s 2ms/step - loss: 0.3157 - accuracy: 0.8673 - val_loss: 0.3597 - val_accuracy: 0.8508\n",
      "Epoch 58/1000\n",
      "536/536 [==============================] - 1s 2ms/step - loss: 0.3152 - accuracy: 0.8690 - val_loss: 0.3597 - val_accuracy: 0.8478\n",
      "Epoch 59/1000\n",
      "536/536 [==============================] - 1s 2ms/step - loss: 0.3150 - accuracy: 0.8668 - val_loss: 0.3583 - val_accuracy: 0.8546\n",
      "Epoch 60/1000\n",
      "536/536 [==============================] - 1s 2ms/step - loss: 0.3151 - accuracy: 0.8679 - val_loss: 0.3616 - val_accuracy: 0.8501\n",
      "Epoch 61/1000\n",
      "536/536 [==============================] - 1s 2ms/step - loss: 0.3146 - accuracy: 0.8681 - val_loss: 0.3594 - val_accuracy: 0.8535\n",
      "Epoch 61: early stopping\n"
     ]
    }
   ],
   "source": [
    "model_history = classifier.fit(X_train,y_train,validation_split=0.33,batch_size=10,epochs=1000,callbacks=early_stopping)"
   ]
  },
  {
   "cell_type": "code",
   "execution_count": 32,
   "id": "8e4e6213",
   "metadata": {},
   "outputs": [
    {
     "data": {
      "text/plain": [
       "dict_keys(['loss', 'accuracy', 'val_loss', 'val_accuracy'])"
      ]
     },
     "execution_count": 32,
     "metadata": {},
     "output_type": "execute_result"
    }
   ],
   "source": [
    "## \n",
    "model_history.history.keys()"
   ]
  },
  {
   "cell_type": "code",
   "execution_count": 33,
   "id": "328f38f3",
   "metadata": {},
   "outputs": [
    {
     "data": {
      "image/png": "[encoded data removed]",
      "text/plain": [
       "<Figure size 640x480 with 1 Axes>"
      ]
     },
     "metadata": {},
     "output_type": "display_data"
    }
   ],
   "source": [
    "# summarise history for accuracy\n",
    "plt.plot(model_history.history['accuracy'])\n",
    "plt.plot(model_history.history['val_accuracy'])\n",
    "plt.title('Model Accuracy')\n",
    "plt.ylabel('accuracy')\n",
    "plt.xlabel('epoch')\n",
    "plt.legend(['train','test'], loc='upper left')\n",
    "plt.show()"
   ]
  },
  {
   "cell_type": "code",
   "execution_count": 38,
   "id": "b0416469",
   "metadata": {},
   "outputs": [
    {
     "data": {
      "image/png": "[encoded data removed]",
      "text/plain": [
       "<Figure size 640x480 with 1 Axes>"
      ]
     },
     "metadata": {},
     "output_type": "display_data"
    }
   ],
   "source": [
    "# summarize history for loss\n",
    "plt.plot(model_history.history['loss'])\n",
    "plt.plot(model_history.history['val_loss'])\n",
    "plt.title('model loss')\n",
    "plt.ylabel('loss')\n",
    "plt.xlabel('epoch')\n",
    "plt.legend(['train','test'], loc= 'upper right')\n",
    "plt.show()"
   ]
  },
  {
   "cell_type": "code",
   "execution_count": 39,
   "id": "9862d8cd",
   "metadata": {},
   "outputs": [
    {
     "name": "stdout",
     "output_type": "stream",
     "text": [
      "63/63 [==============================] - 0s 1ms/step\n"
     ]
    }
   ],
   "source": [
    "# Part 3 - Making the prediction and evaluting the model\n",
    "\n",
    "# Predicting the test set result\n",
    "y_pred = classifier.predict(X_test)\n",
    "y_pred = (y_pred > 0.5) # whenever value is greter than 0.5 value is 1 otherwise 0"
   ]
  },
  {
   "cell_type": "code",
   "execution_count": 41,
   "id": "e73b5882",
   "metadata": {},
   "outputs": [
    {
     "data": {
      "text/plain": [
       "array([[1507,   88],\n",
       "       [ 207,  198]])"
      ]
     },
     "execution_count": 41,
     "metadata": {},
     "output_type": "execute_result"
    }
   ],
   "source": [
    "## make the confusion matrix\n",
    "\n",
    "from sklearn.metrics import confusion_matrix\n",
    "cm = confusion_matrix(y_test, y_pred)\n",
    "cm"
   ]
  },
  {
   "cell_type": "code",
   "execution_count": 43,
   "id": "c35e22b4",
   "metadata": {},
   "outputs": [
    {
     "data": {
      "text/plain": [
       "0.8525"
      ]
     },
     "execution_count": 43,
     "metadata": {},
     "output_type": "execute_result"
    }
   ],
   "source": [
    "## calculate the accuracy\n",
    "from sklearn.metrics import accuracy_score\n",
    "score = accuracy_score(y_pred,y_test)\n",
    "score"
   ]
  },
  {
   "cell_type": "code",
   "execution_count": 44,
   "id": "129c5744",
   "metadata": {},
   "outputs": [
    {
     "data": {
      "text/plain": [
       "[array([[-1.87742859e-01, -5.82778603e-02, -1.79956928e-01,\n",
       "         -2.70336568e-01, -2.50236779e-01,  1.44911587e-01,\n",
       "          3.99973422e-01,  1.85812652e-01,  1.55411474e-03,\n",
       "          5.13718463e-02, -2.91887298e-02],\n",
       "        [-3.56585473e-01, -3.53218853e-01, -5.10071576e-01,\n",
       "          1.63136911e+00, -7.42586039e-04,  1.45402998e-01,\n",
       "         -7.28107870e-01, -5.13907015e-01,  5.95765650e-01,\n",
       "         -3.37484479e-01,  7.26065099e-01],\n",
       "        [-6.07365631e-02,  3.76542985e-01,  9.88367945e-02,\n",
       "         -1.68241456e-01, -3.80618870e-01,  1.30699396e-01,\n",
       "         -3.65038328e-02, -1.79425776e-01, -8.09896290e-02,\n",
       "          1.41290426e-01,  1.98817343e-01],\n",
       "        [ 6.27162814e-01, -4.87776995e-01, -1.43658444e-01,\n",
       "          1.61437422e-01,  2.36294612e-01, -1.25956202e+00,\n",
       "         -4.49429035e-01, -4.44198400e-01,  6.56431973e-01,\n",
       "         -5.98786771e-01, -4.13451605e-02],\n",
       "        [-4.63322490e-01, -4.26907927e-01,  1.16415930e+00,\n",
       "         -6.15145385e-01, -5.26573539e-01, -9.48754251e-01,\n",
       "          4.33663279e-01,  1.47182092e-01,  9.44938362e-02,\n",
       "         -7.19655693e-01,  2.29197279e-01],\n",
       "        [-8.92520472e-02, -3.53636026e-01, -2.79568702e-01,\n",
       "          1.67033792e-01,  4.58990246e-01,  3.28268185e-02,\n",
       "         -3.48882258e-01,  8.93162370e-01, -3.38904887e-01,\n",
       "          1.83698907e-01,  5.39998040e-02],\n",
       "        [-1.62572920e-01,  5.66660047e-01, -3.14414114e-01,\n",
       "          3.30773801e-01, -1.69826031e-01,  5.65476939e-02,\n",
       "         -4.73827459e-02,  2.09103748e-01, -5.08411705e-01,\n",
       "         -3.24997902e-02,  1.03309476e+00],\n",
       "        [ 1.43718198e-01,  3.06005388e-01,  4.23217826e-02,\n",
       "          1.13372609e-01, -3.55621606e-01,  2.81763053e-03,\n",
       "         -2.05010206e-01,  4.10852432e-01,  4.60491292e-02,\n",
       "         -2.25762486e-01, -1.48159206e-01],\n",
       "        [ 1.77221909e-01,  6.42221794e-02,  3.22473645e-01,\n",
       "          2.38091759e-02, -2.15317875e-01,  6.93181753e-01,\n",
       "         -9.27798748e-02,  1.90983579e-01,  8.36015195e-02,\n",
       "         -1.25123608e+00, -2.17140377e-01],\n",
       "        [-5.04594624e-01, -1.11717805e-01,  9.13015231e-02,\n",
       "          1.05288349e-01, -6.32003471e-02,  2.55903564e-02,\n",
       "         -3.71434093e-01, -1.54142082e-01,  1.24006890e-01,\n",
       "          4.30930793e-01,  3.32607776e-01],\n",
       "        [-3.77018958e-01,  7.20006526e-01,  2.09892526e-01,\n",
       "          1.02872893e-01,  6.01005733e-01,  9.30693895e-02,\n",
       "          3.95565867e-01,  6.99357390e-02, -3.26958716e-01,\n",
       "         -1.28057435e-01,  9.03365016e-02]], dtype=float32),\n",
       " array([ 0.36624566,  0.60514814,  0.07332329, -0.07041624,  0.16324739,\n",
       "         0.03281835,  0.13906462,  0.47567528,  0.4747933 ,  0.8566037 ,\n",
       "        -0.0947732 ], dtype=float32),\n",
       " array([[-1.0432463 ,  0.21578631,  0.07511659,  0.41573393, -0.58279544,\n",
       "         -0.57161313,  0.26836064],\n",
       "        [-0.8084258 ,  0.33670706,  0.389487  ,  0.32399422, -0.25719905,\n",
       "         -0.33207786,  0.7753459 ],\n",
       "        [ 0.5839158 , -0.00518809, -0.5501384 , -0.45805332, -0.23377605,\n",
       "          0.3842847 ,  0.4747442 ],\n",
       "        [-0.3210354 , -0.7754672 ,  0.08402818,  0.5196043 , -0.3051376 ,\n",
       "         -0.69815165,  0.49865812],\n",
       "        [-0.44044626,  0.4883828 ,  0.18542801, -0.3127569 , -0.45078292,\n",
       "         -1.3126043 , -0.439885  ],\n",
       "        [-0.75255823, -0.6330382 ,  0.34455666,  0.60703033,  0.32307583,\n",
       "         -0.89810526,  0.28104797],\n",
       "        [-0.1043822 ,  0.22684436, -0.42186812,  0.09643612,  0.04650223,\n",
       "         -0.41891512,  0.29171512],\n",
       "        [ 0.33207515, -0.1721017 , -0.15311737,  0.17895138,  0.8144705 ,\n",
       "          0.05235812,  0.74719363],\n",
       "        [ 0.46752867,  0.24375723,  0.3566322 ,  0.19000478,  0.16324344,\n",
       "         -0.16660564, -0.3916581 ],\n",
       "        [-0.3058346 ,  0.7120472 ,  0.7119717 ,  0.26344225, -0.65040267,\n",
       "         -0.45743942,  0.4234392 ],\n",
       "        [ 0.2269672 , -0.36475173, -0.5698662 , -0.7759916 , -0.2793012 ,\n",
       "         -0.10427053,  0.93284076]], dtype=float32),\n",
       " array([0.35256   , 0.44217998, 0.09337161, 0.0008108 , 0.14955549,\n",
       "        0.36261228, 0.47923708], dtype=float32),\n",
       " array([[ 1.2798516e+00, -6.4840168e-02, -1.0250801e-01, -7.3286682e-01,\n",
       "          1.0095907e+00, -5.2557325e-01],\n",
       "        [-1.2311020e+00, -4.6909255e-01, -4.5821160e-01,  1.1656625e+00,\n",
       "         -9.0672070e-01,  9.7277060e-02],\n",
       "        [ 3.8205317e-01,  9.2193985e-01, -5.8410913e-01, -3.4506026e-01,\n",
       "         -7.8192294e-01, -6.0679752e-01],\n",
       "        [-2.1037306e-01,  6.4842224e-01, -5.8643764e-01,  1.4698194e-01,\n",
       "         -1.2165668e-01, -1.7517102e-01],\n",
       "        [-9.8064345e-01, -9.4051218e-01,  5.3864169e-01,  1.0991869e+00,\n",
       "         -2.5275293e-01,  4.9141169e-02],\n",
       "        [ 4.4798651e-01, -3.5398775e-01,  3.7962508e-01, -1.0247375e+00,\n",
       "          7.5029612e-01,  1.2394576e-01],\n",
       "        [-9.6645579e-04, -4.1501828e-02, -4.7352183e-01,  9.3920445e-01,\n",
       "         -1.9464722e-01, -9.0982080e-02]], dtype=float32),\n",
       " array([ 0.1873931 , -0.12085282,  0.        ,  0.51396894,  0.242788  ,\n",
       "        -0.13451162], dtype=float32),\n",
       " array([[ 1.3764479 ],\n",
       "        [ 0.83768195],\n",
       "        [ 0.8383728 ],\n",
       "        [-0.51792634],\n",
       "        [ 0.80136967],\n",
       "        [ 0.3397081 ]], dtype=float32),\n",
       " array([-0.45662844], dtype=float32)]"
      ]
     },
     "execution_count": 44,
     "metadata": {},
     "output_type": "execute_result"
    }
   ],
   "source": [
    "## get the weights, we can store the weight as pickle file and use it whenver we want\n",
    "\n",
    "classifier.get_weights()"
   ]
  }
 ],
 "metadata": {
  "kernelspec": {
   "display_name": "Python 3 (ipykernel)",
   "language": "python",
   "name": "python3"
  },
  "language_info": {
   "codemirror_mode": {
    "name": "ipython",
    "version": 3
   },
   "file_extension": ".py",
   "mimetype": "text/x-python",
   "name": "python",
   "nbconvert_exporter": "python",
   "pygments_lexer": "ipython3",
   "version": "3.9.13"
  }
 },
 "nbformat": 4,
 "nbformat_minor": 5
}
